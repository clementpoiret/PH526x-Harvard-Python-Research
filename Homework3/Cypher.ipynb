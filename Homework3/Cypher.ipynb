{
 "cells": [
  {
   "cell_type": "code",
   "execution_count": 1,
   "metadata": {},
   "outputs": [],
   "source": [
    "import string"
   ]
  },
  {
   "cell_type": "code",
   "execution_count": 2,
   "metadata": {},
   "outputs": [],
   "source": [
    "alphabet = ' ' + string.ascii_lowercase\n",
    "positions = {alphabet[i]:i for i in range(27)}"
   ]
  },
  {
   "cell_type": "code",
   "execution_count": 3,
   "metadata": {},
   "outputs": [],
   "source": [
    "message = \"hi my name is caesar\"\n",
    "\n",
    "encoding_list = []\n",
    "for char in message:\n",
    "    position = positions[char]\n",
    "    encoded_position = (position + 1) % len(alphabet)\n",
    "    encoding_list.append(alphabet[encoded_position])\n",
    "encoded_message = \"\".join(encoding_list)"
   ]
  },
  {
   "cell_type": "code",
   "execution_count": 4,
   "metadata": {},
   "outputs": [
    {
     "data": {
      "text/plain": [
       "'klcpacqdphclvcfdhvdu'"
      ]
     },
     "execution_count": 4,
     "metadata": {},
     "output_type": "execute_result"
    }
   ],
   "source": [
    "encoding_list = []\n",
    "def encoding(message, key):\n",
    "    for char in message:\n",
    "        position = positions[char]\n",
    "        encoded_position = (position + key) % len(alphabet)\n",
    "        encoding_list.append(alphabet[encoded_position])\n",
    "    return \"\".join(encoding_list)\n",
    "\n",
    "encoded_message = encoding(message, 3)\n",
    "encoded_message"
   ]
  },
  {
   "cell_type": "code",
   "execution_count": 5,
   "metadata": {},
   "outputs": [
    {
     "name": "stdout",
     "output_type": "stream",
     "text": [
      "klcpacqdphclvcfdhvduhi my name is caesar\n"
     ]
    }
   ],
   "source": [
    "decoded_message = encoding(encoded_message, -3)\n",
    "print(decoded_message)"
   ]
  }
 ],
 "metadata": {
  "kernelspec": {
   "display_name": "Python 3",
   "language": "python",
   "name": "python3"
  },
  "language_info": {
   "codemirror_mode": {
    "name": "ipython",
    "version": 3
   },
   "file_extension": ".py",
   "mimetype": "text/x-python",
   "name": "python",
   "nbconvert_exporter": "python",
   "pygments_lexer": "ipython3",
   "version": "3.7.1"
  }
 },
 "nbformat": 4,
 "nbformat_minor": 2
}
